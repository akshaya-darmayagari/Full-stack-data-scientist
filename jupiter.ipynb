{
 "cells": [
  {
   "cell_type": "code",
   "execution_count": 51,
   "id": "1558fddf",
   "metadata": {},
   "outputs": [
    {
     "name": "stdout",
     "output_type": "stream",
     "text": [
      "2000\n",
      "dict_items([('Shirt', 500), ('Shoes', 1500)])\n",
      "None\n"
     ]
    }
   ],
   "source": [
    "class Order:\n",
    "    def __init__(self, items):\n",
    "        self.items = items\n",
    "    def add_item(self, item,price):\n",
    "        self.items[item] = price\n",
    "    def remove_item(self, item):\n",
    "        if item in self.items:\n",
    "            del self.items[item]\n",
    "    def calculate_total(self):\n",
    "        return sum(self.items.values())\n",
    "    def show_items(self):\n",
    "        print(self.items.items())\n",
    "order = Order({})\n",
    "order.add_item(\"Shirt\", 500)\n",
    "order.add_item(\"Shoes\", 1500)\n",
    "print(order.calculate_total())\n",
    "print(order.show_items())"
   ]
  },
  {
   "cell_type": "code",
   "execution_count": 47,
   "id": "6e4e55d9",
   "metadata": {},
   "outputs": [
    {
     "name": "stdout",
     "output_type": "stream",
     "text": [
      "Circle : 78.5\n",
      "Rectangle : 24\n"
     ]
    }
   ],
   "source": [
    "class Shape:\n",
    "    def __init__(self,name):\n",
    "        self.name=name\n",
    "    def area(self):\n",
    "        pass\n",
    "class Circle(Shape):\n",
    "    def __init__(self,name,radius):\n",
    "        super().__init__(name)\n",
    "        self.radius=radius\n",
    "    def area(self):\n",
    "        return 3.14*self.radius*self.radius\n",
    "class Rectangle(Shape):\n",
    "    def __init__(self,name,length,breadth):\n",
    "        super().__init__(name)\n",
    "        self.length=length\n",
    "        self.breadth=breadth\n",
    "    def area(self):\n",
    "        return self.length*self.breadth\n",
    "c=Circle(\"Circle\",5)\n",
    "print(c.name,\":\",c.area())\n",
    "r=Rectangle(\"Rectangle\",4,6)\n",
    "print(r.name,\":\",r.area())\n"
   ]
  },
  {
   "cell_type": "code",
   "execution_count": 45,
   "id": "bebd5bb7",
   "metadata": {},
   "outputs": [
    {
     "name": "stdout",
     "output_type": "stream",
     "text": [
      "10000.0\n"
     ]
    }
   ],
   "source": [
    "class Employee:\n",
    "    def __init__(self,name,salary,role):\n",
    "        self.name=name\n",
    "        self.salary=salary\n",
    "        self.role=role\n",
    "    def bonus(self):\n",
    "        if(self.role==\"Manager\"):\n",
    "            return self.salary*0.2\n",
    "        elif(self.role==\"Developer\"):\n",
    "            return self.salary*0.1\n",
    "        elif(self.role==\"Intern\"):\n",
    "            return self.salary*0.05\n",
    "e=Employee(\"TOM\",50000,\"Manager\")\n",
    "print(e.bonus())"
   ]
  },
  {
   "cell_type": "code",
   "execution_count": 44,
   "id": "915fefe5",
   "metadata": {},
   "outputs": [
    {
     "name": "stdout",
     "output_type": "stream",
     "text": [
      "85.0\n",
      "95\n",
      "80\n"
     ]
    }
   ],
   "source": [
    "class Student_Average:\n",
    "    def __init__(self, name, marks):\n",
    "        self.name = name\n",
    "        self.marks = marks\n",
    "    def average(self):\n",
    "        return sum(self.marks) / len(self.marks)\n",
    "    def add_mark(self, mark):\n",
    "        self.marks.append(mark)\n",
    "    def get_highest(self):\n",
    "        return max(self.marks)\n",
    "    def get_lowest(self):\n",
    "        return min(self.marks)\n",
    "Stu=Student_Average(\"Sri\",[90,85,80])\n",
    "print(Stu.average())\n",
    "Stu.add_mark(95)\n",
    "print(Stu.get_highest())\n",
    "print(Stu.get_lowest())"
   ]
  },
  {
   "cell_type": "code",
   "execution_count": 42,
   "id": "72b781b1",
   "metadata": {},
   "outputs": [
    {
     "name": "stdout",
     "output_type": "stream",
     "text": [
      "Balance: 1300\n"
     ]
    }
   ],
   "source": [
    "class BankAccount():\n",
    "    def __init__(self,balance,owner=\"Ravi\"):\n",
    "        self.owner=owner\n",
    "        self.balance=balance\n",
    "    def deposit(self,amount):\n",
    "        self.balance+=amount\n",
    "    def withdraw(self,amount):\n",
    "        if amount<self.balance:\n",
    "            self.balance-=amount\n",
    "    def getBalance(self):\n",
    "        return self.balance\n",
    "a=BankAccount(1000)\n",
    "a.deposit(500)\n",
    "a.withdraw(200)\n",
    "print(\"Balance:\",a.getBalance())"
   ]
  },
  {
   "cell_type": "code",
   "execution_count": 40,
   "id": "81278269",
   "metadata": {},
   "outputs": [
    {
     "name": "stdout",
     "output_type": "stream",
     "text": [
      "5\n",
      "4\n",
      "3\n",
      "2\n",
      "1\n",
      "Time's up\n"
     ]
    }
   ],
   "source": [
    "import time\n",
    "a=int(input())\n",
    "for i in range(a,0,-1):\n",
    "    print(i)\n",
    "    time.sleep(1)\n",
    "print(\"Time's up\")"
   ]
  },
  {
   "cell_type": "code",
   "execution_count": 32,
   "id": "ec4f2433",
   "metadata": {},
   "outputs": [
    {
     "name": "stdout",
     "output_type": "stream",
     "text": [
      "Counter({'cat': 2, 'dog': 1})\n"
     ]
    }
   ],
   "source": [
    "import collections\n",
    "a=input()\n",
    "b=a.split(\" \")\n",
    "b=collections.Counter(b)\n",
    "print(b)"
   ]
  },
  {
   "cell_type": "code",
   "execution_count": null,
   "id": "3922b4fe",
   "metadata": {},
   "outputs": [
    {
     "name": "stdout",
     "output_type": "stream",
     "text": [
      "Weather: Rainy Temp: 12\n"
     ]
    }
   ],
   "source": [
    "import random\n",
    "b={\"Sunny\":35,\"Cloudy\":23,\"Rainy\":12,\"Windy\":20}\n",
    "c=random.choice(list(b))\n",
    "print(\"Weather:\",c,\"Temp:\",b[c])\n"
   ]
  },
  {
   "cell_type": "code",
   "execution_count": 28,
   "id": "12b52cca",
   "metadata": {},
   "outputs": [
    {
     "name": "stdout",
     "output_type": "stream",
     "text": [
      "5.0\n"
     ]
    }
   ],
   "source": [
    "import math\n",
    "a=input()\n",
    "b=int(input())\n",
    "if a==\"sqrt\":\n",
    "    print(math.sqrt(b))\n",
    "elif a==\"factorial\":\n",
    "    print(math.factorial(b))\n",
    "elif a==\"sin\":\n",
    "    print(math.sin(b))\n",
    "elif a==\"cos\":\n",
    "    print(math.cos(b))\n"
   ]
  },
  {
   "cell_type": "code",
   "execution_count": 26,
   "id": "d9084989",
   "metadata": {},
   "outputs": [
    {
     "name": "stdout",
     "output_type": "stream",
     "text": [
      "tT~3vk\n"
     ]
    }
   ],
   "source": [
    "import random\n",
    "import string\n",
    "l=int(input(\"Length:\"))\n",
    "ch=string.ascii_letters + string.digits+string.punctuation\n",
    "b=''.join(random.choice(ch) for _ in range(l))\n",
    "print(b)"
   ]
  },
  {
   "cell_type": "code",
   "execution_count": 18,
   "id": "08059b6d",
   "metadata": {},
   "outputs": [
    {
     "name": "stdout",
     "output_type": "stream",
     "text": [
      "amazing\n"
     ]
    }
   ],
   "source": [
    "a=input()\n",
    "l=a.split(\" \")\n",
    "le=0\n",
    "w=\"\"\n",
    "for i in l:\n",
    "    if len(i)>le:\n",
    "        le=len(i)\n",
    "        w=i\n",
    "print(w)"
   ]
  },
  {
   "cell_type": "code",
   "execution_count": 17,
   "id": "f2d63418",
   "metadata": {},
   "outputs": [
    {
     "name": "stdout",
     "output_type": "stream",
     "text": [
      "Vowels: 2 Consonants: 3\n"
     ]
    }
   ],
   "source": [
    "a=input()\n",
    "a.lower()\n",
    "v,c=0,0\n",
    "for i in a:\n",
    "    if i in \"aeiou\":\n",
    "        v+=1\n",
    "    else:\n",
    "        c+=1\n",
    "print(\"Vowels:\",v,\"Consonants:\",c)"
   ]
  },
  {
   "cell_type": "code",
   "execution_count": 15,
   "id": "2eb7b0ed",
   "metadata": {},
   "outputs": [
    {
     "name": "stdout",
     "output_type": "stream",
     "text": [
      "True\n"
     ]
    }
   ],
   "source": [
    "a=input()\n",
    "b=input()\n",
    "a=[ch for ch in a]\n",
    "b=[ch for ch in b]\n",
    "if(len(a)==len(b)):\n",
    "    a.sort()\n",
    "    b.sort()\n",
    "    if(a==b):\n",
    "        print(\"True\")\n",
    "    else:\n",
    "        print(\"False\")\n",
    "else:\n",
    "    print(\"False\")"
   ]
  },
  {
   "cell_type": "code",
   "execution_count": 10,
   "id": "161f7f9b",
   "metadata": {},
   "outputs": [
    {
     "name": "stdout",
     "output_type": "stream",
     "text": [
      "True\n"
     ]
    }
   ],
   "source": [
    "a=input()\n",
    "a=a.lower()\n",
    "a=a.replace(\" \",\"\")\n",
    "if(a[::-1]==a):\n",
    "    print(\"True\")\n",
    "else:\n",
    "    print(\"False\")\n"
   ]
  },
  {
   "cell_type": "code",
   "execution_count": 4,
   "id": "fb2bcb1b",
   "metadata": {},
   "outputs": [
    {
     "name": "stdout",
     "output_type": "stream",
     "text": [
      "[2, 3, 5, 7, 11, 13, 17, 19]\n"
     ]
    }
   ],
   "source": [
    "n=int(input())\n",
    "l=[]\n",
    "for i in range(2,n):\n",
    "    c=0\n",
    "    for j in range(2,i):\n",
    "        if i%j==0:\n",
    "            c+=1\n",
    "    if c==0:\n",
    "        l.append(i)  \n",
    "print(l)"
   ]
  }
 ],
 "metadata": {
  "kernelspec": {
   "display_name": "Python 3",
   "language": "python",
   "name": "python3"
  },
  "language_info": {
   "codemirror_mode": {
    "name": "ipython",
    "version": 3
   },
   "file_extension": ".py",
   "mimetype": "text/x-python",
   "name": "python",
   "nbconvert_exporter": "python",
   "pygments_lexer": "ipython3",
   "version": "3.11.0"
  }
 },
 "nbformat": 4,
 "nbformat_minor": 5
}
